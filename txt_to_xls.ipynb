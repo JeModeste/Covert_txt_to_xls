{
 "cells": [
  {
   "cell_type": "code",
   "execution_count": null,
   "id": "thirty-basement",
   "metadata": {
    "id": "thirty-basement"
   },
   "outputs": [],
   "source": [
    "import csv\n",
    "import openpyxl \n",
    "\n",
    "input_file='File.txt'\n",
    "output_file='Give_name_file.xls'\n",
    "\n",
    "wb=openpyxl.Workbook()\n",
    "ws=wb.worksheets[0]\n",
    "\n",
    "with open(input_file,'r') as data:\n",
    "    reader=csv.reader(data, delimiter='\\t')\n",
    "    for row in reader:\n",
    "        ws.append(row)\n",
    "        \n",
    "wb.save(output_file) # the file is automatically saved in current directory"
   ]
  }
 ],
 "metadata": {
  "colab": {
   "provenance": []
  },
  "kernelspec": {
   "display_name": "Python 3",
   "language": "python",
   "name": "python3"
  },
  "language_info": {
   "codemirror_mode": {
    "name": "ipython",
    "version": 3
   },
   "file_extension": ".py",
   "mimetype": "text/x-python",
   "name": "python",
   "nbconvert_exporter": "python",
   "pygments_lexer": "ipython3",
   "version": "3.9.2"
  }
 },
 "nbformat": 4,
 "nbformat_minor": 5
}
